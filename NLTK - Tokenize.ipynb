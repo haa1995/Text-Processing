{
 "cells": [
  {
   "cell_type": "markdown",
   "metadata": {},
   "source": [
    "# Tokenize Word, Sentence, and Paragraph using NLTK"
   ]
  },
  {
   "cell_type": "markdown",
   "metadata": {},
   "source": [
    "Before using NLTK framework, install NLTK by running below commands in terminal :\n",
    "\n",
    "    sudo pip install nltk"
   ]
  },
  {
   "cell_type": "markdown",
   "metadata": {},
   "source": [
    "### Libraries"
   ]
  },
  {
   "cell_type": "code",
   "execution_count": 1,
   "metadata": {
    "collapsed": true
   },
   "outputs": [],
   "source": [
    "import nltk\n",
    "\n",
    "#nltk.download() <== run this line if it's the first time using NLTK\n",
    "\n",
    "from nltk.tokenize import sent_tokenize, word_tokenize"
   ]
  },
  {
   "cell_type": "markdown",
   "metadata": {},
   "source": [
    "### Word Tokenize "
   ]
  },
  {
   "cell_type": "code",
   "execution_count": 2,
   "metadata": {},
   "outputs": [
    {
     "name": "stdout",
     "output_type": "stream",
     "text": [
      "['Gubernur', 'DKI', 'Jakarta', 'Anies', 'Baswedan', 'menegaskan', 'bahwa', 'pembatalan', 'proyek', 'reklamasi', 'berdasarkan', 'peraturan', 'dan', 'undang-undang', 'yang', 'berlaku', '.', 'Dia', 'merujuk', 'pada', 'pasal', '103', 'dan', '104', 'Peraturan', 'Menteri', 'Agraria', 'dan', 'Badan', 'Pertanahan', 'Nasional', 'Nomor', '99', 'Tahun', '1999', '.', '``', 'Di', 'Peraturan', 'Menteri', 'itu', 'dijelaskan', 'tentang', 'prosedur', 'untuk', 'pembatalan', 'Hak', 'Guna', 'Bangunan', '(', 'HGB', ')', '.', 'Kita', 'ingin', 'tegaskan', 'bahwa', 'ketika', 'ada', 'cacat', 'administrasi', ',', 'maka', 'pemegang', 'otoritas', 'wilayah', 'berhak', 'untuk', 'melakukan', 'peninjauan', 'ulang', ',', \"''\", 'kata', 'Anies', 'ketika', 'ditemui', 'di', 'Jakarta', 'International', 'Expo', ',', 'Jakarta', ',', 'Sabtu', 'malam', ',', '13', 'Januari', '2018.Gubernur', 'juga', 'menyadari', 'bahwa', 'persoalan', 'pembatalan', 'reklamasi', 'itu', 'menjadi', 'perhatian', 'masyarakat', '.', 'Namun', 'dia', 'menggarisbawahi', 'bahwa', 'dia', 'tahu', 'persis', 'aturan', 'yang', 'digunakan', ',', 'yang', 'selama', 'ini', 'sudah', 'sering', 'digunakan', '.', 'Pemerintah', 'Provinsi', 'dalam', 'hal', 'ini', 'akan', 'dengan', 'sangat', 'mudah', 'mengembalikan', 'pajak', '.', '``', 'Tidak', 'ada', 'masalah', 'sama', 'sekali', ',', 'bukan', 'pakai', 'APBD', ',', 'bayar', 'pajak', 'itu', 'ada', 'catatan', '.', 'Bahwa', 'pajak', 'yang', 'masuk', 'secara', 'sekonyong-konyong', 'itu', 'banyak', 'catatan', 'di', 'situ', ',', \"''\", 'ujarnya.Gubernur', 'mengaku', 'telah', 'berdiskusi', 'dengan', 'Badan', 'Penerimaan', 'dan', 'Retribusi', 'Daerah', ',', 'dan', 'ternyata', 'memang', 'banyak', 'catatan', '.']\n"
     ]
    }
   ],
   "source": [
    "word = '''Gubernur DKI Jakarta Anies Baswedan menegaskan bahwa pembatalan proyek reklamasi berdasarkan peraturan dan undang-undang yang berlaku. Dia merujuk pada pasal 103 dan 104 Peraturan Menteri Agraria dan Badan Pertanahan Nasional Nomor 99 Tahun 1999.\"Di Peraturan Menteri itu dijelaskan tentang prosedur untuk pembatalan Hak Guna Bangunan (HGB). Kita ingin tegaskan bahwa ketika ada cacat administrasi, maka pemegang otoritas wilayah berhak untuk melakukan peninjauan ulang,\" kata Anies ketika ditemui di Jakarta International Expo, Jakarta,  Sabtu malam, 13 Januari 2018.Gubernur juga menyadari bahwa persoalan pembatalan reklamasi itu menjadi perhatian masyarakat. Namun dia menggarisbawahi bahwa dia tahu persis aturan yang digunakan, yang selama ini sudah sering digunakan. Pemerintah Provinsi dalam hal ini akan dengan sangat mudah mengembalikan pajak.\"Tidak ada masalah sama sekali, bukan pakai APBD, bayar pajak itu ada catatan. Bahwa pajak yang masuk secara sekonyong-konyong itu banyak catatan di situ,\" ujarnya.Gubernur mengaku telah berdiskusi dengan Badan Penerimaan dan Retribusi Daerah, dan ternyata memang banyak catatan.'''\n",
    "\n",
    "print(word_tokenize(word))"
   ]
  },
  {
   "cell_type": "markdown",
   "metadata": {},
   "source": [
    "### Sentences Tokenize "
   ]
  },
  {
   "cell_type": "code",
   "execution_count": 5,
   "metadata": {},
   "outputs": [
    {
     "name": "stdout",
     "output_type": "stream",
     "text": [
      "['Gubernur DKI Jakarta Anies Baswedan menegaskan bahwa pembatalan proyek reklamasi berdasarkan peraturan dan undang-undang yang berlaku.', 'Dia merujuk pada pasal 103 dan 104 Peraturan Menteri Agraria dan Badan Pertanahan Nasional Nomor 99 Tahun 1999.', '\"Di Peraturan Menteri itu dijelaskan tentang prosedur untuk pembatalan Hak Guna Bangunan (HGB).', 'Kita ingin tegaskan bahwa ketika ada cacat administrasi, maka pemegang otoritas wilayah berhak untuk melakukan peninjauan ulang,\" kata Anies ketika ditemui di Jakarta International Expo, Jakarta,  Sabtu malam, 13 Januari 2018.Gubernur juga menyadari bahwa persoalan pembatalan reklamasi itu menjadi perhatian masyarakat.', 'Namun dia menggarisbawahi bahwa dia tahu persis aturan yang digunakan, yang selama ini sudah sering digunakan.', 'Pemerintah Provinsi dalam hal ini akan dengan sangat mudah mengembalikan pajak.', '\"Tidak ada masalah sama sekali, bukan pakai APBD, bayar pajak itu ada catatan.', 'Bahwa pajak yang masuk secara sekonyong-konyong itu banyak catatan di situ,\" ujarnya.Gubernur mengaku telah berdiskusi dengan Badan Penerimaan dan Retribusi Daerah, dan ternyata memang banyak catatan.']\n"
     ]
    }
   ],
   "source": [
    "sentences = '''Gubernur DKI Jakarta Anies Baswedan menegaskan bahwa pembatalan proyek reklamasi berdasarkan peraturan dan undang-undang yang berlaku. Dia merujuk pada pasal 103 dan 104 Peraturan Menteri Agraria dan Badan Pertanahan Nasional Nomor 99 Tahun 1999.\"Di Peraturan Menteri itu dijelaskan tentang prosedur untuk pembatalan Hak Guna Bangunan (HGB). Kita ingin tegaskan bahwa ketika ada cacat administrasi, maka pemegang otoritas wilayah berhak untuk melakukan peninjauan ulang,\" kata Anies ketika ditemui di Jakarta International Expo, Jakarta,  Sabtu malam, 13 Januari 2018.Gubernur juga menyadari bahwa persoalan pembatalan reklamasi itu menjadi perhatian masyarakat. Namun dia menggarisbawahi bahwa dia tahu persis aturan yang digunakan, yang selama ini sudah sering digunakan. Pemerintah Provinsi dalam hal ini akan dengan sangat mudah mengembalikan pajak.\"Tidak ada masalah sama sekali, bukan pakai APBD, bayar pajak itu ada catatan. Bahwa pajak yang masuk secara sekonyong-konyong itu banyak catatan di situ,\" ujarnya.Gubernur mengaku telah berdiskusi dengan Badan Penerimaan dan Retribusi Daerah, dan ternyata memang banyak catatan.'''\n",
    "\n",
    "print(sent_tokenize(sentences))"
   ]
  },
  {
   "cell_type": "markdown",
   "metadata": {},
   "source": [
    "### Saving it into arrays"
   ]
  },
  {
   "cell_type": "code",
   "execution_count": 6,
   "metadata": {},
   "outputs": [
    {
     "name": "stdout",
     "output_type": "stream",
     "text": [
      "Word tokenizer result =\n",
      "\n",
      "['Gubernur', 'DKI', 'Jakarta', 'Anies', 'Baswedan', 'menegaskan', 'bahwa', 'pembatalan', 'proyek', 'reklamasi', 'berdasarkan', 'peraturan', 'dan', 'undang-undang', 'yang', 'berlaku', '.', 'Dia', 'merujuk', 'pada', 'pasal', '103', 'dan', '104', 'Peraturan', 'Menteri', 'Agraria', 'dan', 'Badan', 'Pertanahan', 'Nasional', 'Nomor', '99', 'Tahun', '1999', '.', '``', 'Di', 'Peraturan', 'Menteri', 'itu', 'dijelaskan', 'tentang', 'prosedur', 'untuk', 'pembatalan', 'Hak', 'Guna', 'Bangunan', '(', 'HGB', ')', '.', 'Kita', 'ingin', 'tegaskan', 'bahwa', 'ketika', 'ada', 'cacat', 'administrasi', ',', 'maka', 'pemegang', 'otoritas', 'wilayah', 'berhak', 'untuk', 'melakukan', 'peninjauan', 'ulang', ',', \"''\", 'kata', 'Anies', 'ketika', 'ditemui', 'di', 'Jakarta', 'International', 'Expo', ',', 'Jakarta', ',', 'Sabtu', 'malam', ',', '13', 'Januari', '2018.Gubernur', 'juga', 'menyadari', 'bahwa', 'persoalan', 'pembatalan', 'reklamasi', 'itu', 'menjadi', 'perhatian', 'masyarakat', '.', 'Namun', 'dia', 'menggarisbawahi', 'bahwa', 'dia', 'tahu', 'persis', 'aturan', 'yang', 'digunakan', ',', 'yang', 'selama', 'ini', 'sudah', 'sering', 'digunakan', '.', 'Pemerintah', 'Provinsi', 'dalam', 'hal', 'ini', 'akan', 'dengan', 'sangat', 'mudah', 'mengembalikan', 'pajak', '.', '``', 'Tidak', 'ada', 'masalah', 'sama', 'sekali', ',', 'bukan', 'pakai', 'APBD', ',', 'bayar', 'pajak', 'itu', 'ada', 'catatan', '.', 'Bahwa', 'pajak', 'yang', 'masuk', 'secara', 'sekonyong-konyong', 'itu', 'banyak', 'catatan', 'di', 'situ', ',', \"''\", 'ujarnya.Gubernur', 'mengaku', 'telah', 'berdiskusi', 'dengan', 'Badan', 'Penerimaan', 'dan', 'Retribusi', 'Daerah', ',', 'dan', 'ternyata', 'memang', 'banyak', 'catatan', '.']\n",
      "\n",
      "----------------------------------------\n",
      "\n",
      "Sentences tokenizer result =\n",
      "\n",
      "['Gubernur DKI Jakarta Anies Baswedan menegaskan bahwa pembatalan proyek reklamasi berdasarkan peraturan dan undang-undang yang berlaku.', 'Dia merujuk pada pasal 103 dan 104 Peraturan Menteri Agraria dan Badan Pertanahan Nasional Nomor 99 Tahun 1999.', '\"Di Peraturan Menteri itu dijelaskan tentang prosedur untuk pembatalan Hak Guna Bangunan (HGB).', 'Kita ingin tegaskan bahwa ketika ada cacat administrasi, maka pemegang otoritas wilayah berhak untuk melakukan peninjauan ulang,\" kata Anies ketika ditemui di Jakarta International Expo, Jakarta,  Sabtu malam, 13 Januari 2018.Gubernur juga menyadari bahwa persoalan pembatalan reklamasi itu menjadi perhatian masyarakat.', 'Namun dia menggarisbawahi bahwa dia tahu persis aturan yang digunakan, yang selama ini sudah sering digunakan.', 'Pemerintah Provinsi dalam hal ini akan dengan sangat mudah mengembalikan pajak.', '\"Tidak ada masalah sama sekali, bukan pakai APBD, bayar pajak itu ada catatan.', 'Bahwa pajak yang masuk secara sekonyong-konyong itu banyak catatan di situ,\" ujarnya.Gubernur mengaku telah berdiskusi dengan Badan Penerimaan dan Retribusi Daerah, dan ternyata memang banyak catatan.']\n"
     ]
    }
   ],
   "source": [
    "data = '''Gubernur DKI Jakarta Anies Baswedan menegaskan bahwa pembatalan proyek reklamasi berdasarkan peraturan dan undang-undang yang berlaku. Dia merujuk pada pasal 103 dan 104 Peraturan Menteri Agraria dan Badan Pertanahan Nasional Nomor 99 Tahun 1999.\"Di Peraturan Menteri itu dijelaskan tentang prosedur untuk pembatalan Hak Guna Bangunan (HGB). Kita ingin tegaskan bahwa ketika ada cacat administrasi, maka pemegang otoritas wilayah berhak untuk melakukan peninjauan ulang,\" kata Anies ketika ditemui di Jakarta International Expo, Jakarta,  Sabtu malam, 13 Januari 2018.Gubernur juga menyadari bahwa persoalan pembatalan reklamasi itu menjadi perhatian masyarakat. Namun dia menggarisbawahi bahwa dia tahu persis aturan yang digunakan, yang selama ini sudah sering digunakan. Pemerintah Provinsi dalam hal ini akan dengan sangat mudah mengembalikan pajak.\"Tidak ada masalah sama sekali, bukan pakai APBD, bayar pajak itu ada catatan. Bahwa pajak yang masuk secara sekonyong-konyong itu banyak catatan di situ,\" ujarnya.Gubernur mengaku telah berdiskusi dengan Badan Penerimaan dan Retribusi Daerah, dan ternyata memang banyak catatan.'''\n",
    "\n",
    "word = word_tokenize(data)\n",
    "sentence = sent_tokenize(data)\n",
    "\n",
    "print(\"Word tokenizer result =\\n\")\n",
    "print(word)\n",
    "print(\"\\n----------------------------------------\\n\")\n",
    "print(\"Sentences tokenizer result =\\n\")\n",
    "print(sentence)"
   ]
  },
  {
   "cell_type": "markdown",
   "metadata": {
    "collapsed": true
   },
   "source": [
    "### Tokenize a Paragraph"
   ]
  },
  {
   "cell_type": "code",
   "execution_count": 8,
   "metadata": {},
   "outputs": [
    {
     "name": "stdout",
     "output_type": "stream",
     "text": [
      "['Gubernur', 'DKI', 'Jakarta', 'Anies', 'Baswedan', 'menegaskan', 'bahwa', 'pembatalan', 'proyek', 'reklamasi', 'berdasarkan', 'peraturan', 'dan', 'undang-undang', 'yang', 'berlaku', '.']\n",
      "['Dia', 'merujuk', 'pada', 'pasal', '103', 'dan', '104', 'Peraturan', 'Menteri', 'Agraria', 'dan', 'Badan', 'Pertanahan', 'Nasional', 'Nomor', '99', 'Tahun', '1999', '.']\n",
      "['``', 'Di', 'Peraturan', 'Menteri', 'itu', 'dijelaskan', 'tentang', 'prosedur', 'untuk', 'pembatalan', 'Hak', 'Guna', 'Bangunan', '(', 'HGB', ')', '.']\n",
      "['Kita', 'ingin', 'tegaskan', 'bahwa', 'ketika', 'ada', 'cacat', 'administrasi', ',', 'maka', 'pemegang', 'otoritas', 'wilayah', 'berhak', 'untuk', 'melakukan', 'peninjauan', 'ulang', ',', \"''\", 'kata', 'Anies', 'ketika', 'ditemui', 'di', 'Jakarta', 'International', 'Expo', ',', 'Jakarta', ',', 'Sabtu', 'malam', ',', '13', 'Januari', '2018', '.']\n",
      "['Gubernur', 'juga', 'menyadari', 'bahwa', 'persoalan', 'pembatalan', 'reklamasi', 'itu', 'menjadi', 'perhatian', 'masyarakat', '.']\n",
      "['Namun', 'dia', 'menggarisbawahi', 'bahwa', 'dia', 'tahu', 'persis', 'aturan', 'yang', 'digunakan', ',', 'yang', 'selama', 'ini', 'sudah', 'sering', 'digunakan', '.']\n",
      "['Pemerintah', 'Provinsi', 'dalam', 'hal', 'ini', 'akan', 'dengan', 'sangat', 'mudah', 'mengembalikan', 'pajak', '.']\n",
      "['``', 'Tidak', 'ada', 'masalah', 'sama', 'sekali', ',', 'bukan', 'pakai', 'APBD', ',', 'bayar', 'pajak', 'itu', 'ada', 'catatan', '.']\n",
      "['Bahwa', 'pajak', 'yang', 'masuk', 'secara', 'sekonyong-konyong', 'itu', 'banyak', 'catatan', 'di', 'situ', ',', \"''\", 'ujarnya.Gubernur', 'mengaku', 'telah', 'berdiskusi', 'dengan', 'Badan', 'Penerimaan', 'dan', 'Retribusi', 'Daerah', ',', 'dan', 'ternyata', 'memang', 'banyak', 'catatan', '.']\n"
     ]
    }
   ],
   "source": [
    "text = '''Gubernur DKI Jakarta Anies Baswedan menegaskan bahwa pembatalan proyek reklamasi berdasarkan peraturan dan undang-undang yang berlaku. Dia merujuk pada pasal 103 dan 104 Peraturan Menteri Agraria dan Badan Pertanahan Nasional Nomor 99 Tahun 1999.\"Di Peraturan Menteri itu dijelaskan tentang prosedur untuk pembatalan Hak Guna Bangunan (HGB). Kita ingin tegaskan bahwa ketika ada cacat administrasi, maka pemegang otoritas wilayah berhak untuk melakukan peninjauan ulang,\" kata Anies ketika ditemui di Jakarta International Expo, Jakarta,  Sabtu malam, 13 Januari 2018.\n",
    "Gubernur juga menyadari bahwa persoalan pembatalan reklamasi itu menjadi perhatian masyarakat. Namun dia menggarisbawahi bahwa dia tahu persis aturan yang digunakan, yang selama ini sudah sering digunakan. Pemerintah Provinsi dalam hal ini akan dengan sangat mudah mengembalikan pajak.\"Tidak ada masalah sama sekali, bukan pakai APBD, bayar pajak itu ada catatan. Bahwa pajak yang masuk secara sekonyong-konyong itu banyak catatan di situ,\" ujarnya.Gubernur mengaku telah berdiskusi dengan Badan Penerimaan dan Retribusi Daerah, dan ternyata memang banyak catatan.'''\n",
    "\n",
    "sent_tok = sent_tokenize(text)\n",
    "for sentence in sent_tok:\n",
    "    word_tok = word_tokenize(sentence)\n",
    "    print(word_tok)\n",
    "    "
   ]
  },
  {
   "cell_type": "code",
   "execution_count": null,
   "metadata": {
    "collapsed": true
   },
   "outputs": [],
   "source": []
  }
 ],
 "metadata": {
  "kernelspec": {
   "display_name": "Python 2",
   "language": "python",
   "name": "python2"
  },
  "language_info": {
   "codemirror_mode": {
    "name": "ipython",
    "version": 2
   },
   "file_extension": ".py",
   "mimetype": "text/x-python",
   "name": "python",
   "nbconvert_exporter": "python",
   "pygments_lexer": "ipython2",
   "version": "2.7.12"
  }
 },
 "nbformat": 4,
 "nbformat_minor": 2
}
