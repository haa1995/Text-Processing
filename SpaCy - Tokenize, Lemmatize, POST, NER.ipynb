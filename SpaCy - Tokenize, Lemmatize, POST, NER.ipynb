{
 "cells": [
  {
   "cell_type": "markdown",
   "metadata": {},
   "source": [
    "### Libraries"
   ]
  },
  {
   "cell_type": "code",
   "execution_count": 32,
   "metadata": {
    "collapsed": true,
    "scrolled": false
   },
   "outputs": [],
   "source": [
    "import spacy\n",
    "\n",
    "nlp = spacy.load('en')"
   ]
  },
  {
   "cell_type": "code",
   "execution_count": 33,
   "metadata": {},
   "outputs": [],
   "source": [
    "doc = nlp(u\"Rami Eid is studying at Stony Brook University in New York\")"
   ]
  },
  {
   "cell_type": "markdown",
   "metadata": {},
   "source": [
    "### Word Tokenize"
   ]
  },
  {
   "cell_type": "code",
   "execution_count": 34,
   "metadata": {},
   "outputs": [
    {
     "name": "stdout",
     "output_type": "stream",
     "text": [
      "Rami\n",
      "Eid\n",
      "is\n",
      "studying\n",
      "at\n",
      "Stony\n",
      "Brook\n",
      "University\n",
      "in\n",
      "New\n",
      "York\n"
     ]
    }
   ],
   "source": [
    "for word in doc:\n",
    "    print word"
   ]
  },
  {
   "cell_type": "markdown",
   "metadata": {},
   "source": [
    "### Sentences Tokenize "
   ]
  },
  {
   "cell_type": "code",
   "execution_count": 35,
   "metadata": {},
   "outputs": [
    {
     "name": "stdout",
     "output_type": "stream",
     "text": [
      "Rami Eid is studying at Stony Brook University in New York\n"
     ]
    }
   ],
   "source": [
    "for sent in doc.sents:\n",
    "    print sent"
   ]
  },
  {
   "cell_type": "markdown",
   "metadata": {},
   "source": [
    "### Lemmatization "
   ]
  },
  {
   "cell_type": "code",
   "execution_count": 36,
   "metadata": {},
   "outputs": [
    {
     "name": "stdout",
     "output_type": "stream",
     "text": [
      "(Rami, u'rami')\n",
      "(Eid, u'eid')\n",
      "(is, u'be')\n",
      "(studying, u'study')\n",
      "(at, u'at')\n",
      "(Stony, u'stony')\n",
      "(Brook, u'brook')\n",
      "(University, u'university')\n",
      "(in, u'in')\n",
      "(New, u'new')\n",
      "(York, u'york')\n"
     ]
    }
   ],
   "source": [
    "for token in doc:\n",
    "    print(token,token.lemma_)"
   ]
  },
  {
   "cell_type": "markdown",
   "metadata": {},
   "source": [
    "### Pos Tag "
   ]
  },
  {
   "cell_type": "code",
   "execution_count": 37,
   "metadata": {},
   "outputs": [
    {
     "name": "stdout",
     "output_type": "stream",
     "text": [
      "(Rami, u'PROPN')\n",
      "(Eid, u'PROPN')\n",
      "(is, u'VERB')\n",
      "(studying, u'VERB')\n",
      "(at, u'ADP')\n",
      "(Stony, u'PROPN')\n",
      "(Brook, u'PROPN')\n",
      "(University, u'PROPN')\n",
      "(in, u'ADP')\n",
      "(New, u'PROPN')\n",
      "(York, u'PROPN')\n"
     ]
    }
   ],
   "source": [
    "for token in doc:\n",
    "    print(token,token.pos_)"
   ]
  },
  {
   "cell_type": "markdown",
   "metadata": {},
   "source": [
    "### NER"
   ]
  },
  {
   "cell_type": "code",
   "execution_count": 38,
   "metadata": {},
   "outputs": [
    {
     "name": "stdout",
     "output_type": "stream",
     "text": [
      "(Rami Eid, u'PERSON')\n",
      "(Stony Brook University, u'ORG')\n",
      "(New York, u'GPE')\n"
     ]
    }
   ],
   "source": [
    "for ent in doc.ents:\n",
    "    print(ent, ent.label_)"
   ]
  },
  {
   "cell_type": "markdown",
   "metadata": {},
   "source": [
    "### Noun Chunks"
   ]
  },
  {
   "cell_type": "code",
   "execution_count": 39,
   "metadata": {},
   "outputs": [
    {
     "name": "stdout",
     "output_type": "stream",
     "text": [
      "Rami Eid\n",
      "Stony Brook University\n",
      "New York\n"
     ]
    }
   ],
   "source": [
    "for np in doc.noun_chunks:\n",
    "    print np"
   ]
  },
  {
   "cell_type": "markdown",
   "metadata": {},
   "source": [
    "### Words Vector"
   ]
  },
  {
   "cell_type": "code",
   "execution_count": 41,
   "metadata": {},
   "outputs": [],
   "source": [
    "study = doc[0]\n",
    "university = doc[2]\n",
    "new = doc[8]"
   ]
  },
  {
   "cell_type": "code",
   "execution_count": 42,
   "metadata": {},
   "outputs": [
    {
     "data": {
      "text/plain": [
       "-0.093529105"
      ]
     },
     "execution_count": 42,
     "metadata": {},
     "output_type": "execute_result"
    }
   ],
   "source": [
    "study.similarity(university)"
   ]
  },
  {
   "cell_type": "code",
   "execution_count": null,
   "metadata": {
    "collapsed": true
   },
   "outputs": [],
   "source": []
  }
 ],
 "metadata": {
  "kernelspec": {
   "display_name": "Python 2",
   "language": "python",
   "name": "python2"
  },
  "language_info": {
   "codemirror_mode": {
    "name": "ipython",
    "version": 2
   },
   "file_extension": ".py",
   "mimetype": "text/x-python",
   "name": "python",
   "nbconvert_exporter": "python",
   "pygments_lexer": "ipython2",
   "version": "2.7.12"
  }
 },
 "nbformat": 4,
 "nbformat_minor": 2
}
