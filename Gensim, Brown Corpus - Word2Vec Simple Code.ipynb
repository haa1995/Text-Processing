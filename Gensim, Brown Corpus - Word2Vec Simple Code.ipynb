{
 "cells": [
  {
   "cell_type": "code",
   "execution_count": 1,
   "metadata": {
    "collapsed": true
   },
   "outputs": [],
   "source": [
    "import gensim\n",
    "from nltk.corpus import brown"
   ]
  },
  {
   "cell_type": "code",
   "execution_count": 2,
   "metadata": {},
   "outputs": [
    {
     "name": "stdout",
     "output_type": "stream",
     "text": [
      "Brown corpus model saved\n"
     ]
    }
   ],
   "source": [
    "sentences = brown.sents()\n",
    "model = gensim.models.Word2Vec(sentences, min_count=1)\n",
    "model.save(\"brown_model\")\n",
    "print(\"Brown corpus model saved\")"
   ]
  },
  {
   "cell_type": "code",
   "execution_count": 4,
   "metadata": {},
   "outputs": [
    {
     "name": "stdout",
     "output_type": "stream",
     "text": [
      "Model Similar to Mother :\n",
      "[(u'father', 0.9750211834907532), (u'husband', 0.957935094833374), (u'wife', 0.9481684565544128), (u'voice', 0.932336688041687), (u'son', 0.9310407638549805), (u'boy', 0.9131662249565125), (u'friend', 0.9103058576583862), (u'uncle', 0.8927599787712097), (u'maid', 0.8924570083618164), (u'smile', 0.8872331976890564)]\n",
      "\n",
      "Model Not Similar to Breakfast :\n",
      "cereal\n",
      "table\n",
      "\n",
      "Model to Human :\n",
      "[ 1.2215381   0.36367276 -1.3055761  -0.08814918 -0.86153656 -0.02323921\n",
      " -0.04615853 -0.19302155  0.35175383  0.39232928 -0.04180057 -0.58389413\n",
      " -0.27712286 -0.00667714  0.18688256  0.41096303 -0.6366941  -0.44034696\n",
      " -0.06301306 -0.34072298 -1.009378    0.17425421  0.96901834  0.17777753\n",
      " -0.16765842  0.38978443 -0.57780814  0.10881083 -0.4993324  -0.75374734\n",
      " -0.45987943  0.7916344   0.39429545 -0.08984216 -0.00546757  0.5115069\n",
      " -0.27415666  0.8175332   0.5189661  -1.4284226   0.35797584  0.8397727\n",
      " -0.7103804   0.04694612  0.71622    -1.3285397  -0.02465764  0.10331161\n",
      " -0.5682336  -0.01606404 -0.226853    0.3694035   0.05528206 -0.1920079\n",
      " -0.11261147  0.51564944 -0.15232179 -0.04103778 -0.72979647 -0.58410203\n",
      " -0.00380775 -0.50933385 -0.33412176 -0.43222883 -0.13713327 -0.03112797\n",
      " -0.4909813   0.02668842  1.0534716   0.21476033 -0.82921565 -0.26127183\n",
      " -1.1079878   0.62399775 -0.6416854  -0.24581441 -0.14795996 -0.00547934\n",
      "  0.82484955 -0.1068017  -0.42795137  0.02394654  0.45828608 -0.14303628\n",
      "  0.20957051 -0.26762393 -0.67139655 -0.7216416   0.3865365  -0.12451146\n",
      " -1.255565   -0.49247888 -0.7322361  -0.21400808 -0.40707135 -0.0224739\n",
      "  0.5224845   1.1300054  -1.0378094  -0.31764737]\n"
     ]
    }
   ],
   "source": [
    "model = gensim.models.Word2Vec.load(\"brown_model\")\n",
    "#words most similar to mother\n",
    "print(\"Model Similar to Mother :\")\n",
    "print model.most_similar(\"mother\")\n",
    "#find the odd one out\n",
    "print(\"\\nModel Not Similar to Breakfast :\")\n",
    "print model.doesnt_match(\"breakfast cereal dinner lunch\".split())\n",
    "print model.doesnt_match(\"cat dog table\".split())\n",
    "#vector representation of word human'\n",
    "print(\"\\nModel to Human :\")\n",
    "print model[\"human\"]"
   ]
  },
  {
   "cell_type": "code",
   "execution_count": null,
   "metadata": {
    "collapsed": true
   },
   "outputs": [],
   "source": []
  }
 ],
 "metadata": {
  "kernelspec": {
   "display_name": "Python 2",
   "language": "python",
   "name": "python2"
  },
  "language_info": {
   "codemirror_mode": {
    "name": "ipython",
    "version": 2
   },
   "file_extension": ".py",
   "mimetype": "text/x-python",
   "name": "python",
   "nbconvert_exporter": "python",
   "pygments_lexer": "ipython2",
   "version": "2.7.12"
  }
 },
 "nbformat": 4,
 "nbformat_minor": 2
}
