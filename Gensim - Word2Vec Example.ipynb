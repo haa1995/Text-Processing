{
 "cells": [
  {
   "cell_type": "code",
   "execution_count": 1,
   "metadata": {
    "collapsed": true
   },
   "outputs": [],
   "source": [
    "import gensim\n",
    "from nltk import word_tokenize, sent_tokenize\n",
    "from pprint import pprint\n",
    "import re"
   ]
  },
  {
   "cell_type": "code",
   "execution_count": 2,
   "metadata": {},
   "outputs": [
    {
     "name": "stdout",
     "output_type": "stream",
     "text": [
      "['ada', 'adalah', 'adanya', 'adapun', 'agak']\n"
     ]
    }
   ],
   "source": [
    "fname = \"stopwords.txt\"\n",
    "fopen = open(fname, \"r\")\n",
    "stopwords = fopen.read().split(\"\\n\")\n",
    "\n",
    "pprint(stopwords[:5])"
   ]
  },
  {
   "cell_type": "code",
   "execution_count": 3,
   "metadata": {
    "collapsed": true
   },
   "outputs": [],
   "source": [
    "sample = '''VIVA – Sebanyak 1.293 unit mobil mewah dengan harga masing-masing di atas Rp1 miliar masih menunggak pajak hingga akhir 2017. Rinciannya, 744 unit atas nama pribadi dan 549 atas nama badan. Gubernur DKI Jakarta, Anies Baswedan mengatakan, Pemerintah Provinsi DKI Jakarta melalui Badan Pajak dan Retribusi Daerah (BPRD) bekerja sama dengan Kepolisian untuk aktif mengejar para penunggak pajak. \"Banyak yang melapor, kami menerima surat dari pemilik-pemilik mobil yang melaporkan bahwa mereka sudah tidak lagi menegang kendaraan itu. Jadi rupanya, banyak mobil yang sudah dijual, tetapi tidak dibalik nama,\" kata Anies di Kawasan Kedoya Jakarta Barat, Minggu 14 Januari 2018. Ia mengimbau, agar pemilik mobil mewah melaporkan ke BPRD DKI dan Kepolisian bila hendak menjual kendaraannya. Agar, nama pemilik kendaraan dari tangan pertama dihapus oleh pihak berwenang.\"Kalau mereka sudah lapor ke BPRD, lapor juga ke Polda biar diblokir, agar mereka tidak bisa lagi menggunakan pemilik lama. Harus menggunakan (nama) pemilik baru,\" ujarnya.Bila nama pemilik kendaraan tak diganti, maka pajak akan dibebankan kepada pemilik pertama mobil tersebut, sebagaimana data yang terdata dalam dinas pajak.\"Jadi, bagi pemerintah transaksi itu belum selesai kalau belum ada balik nama. Selama belum ada balik nama, pemerintah tahunya adalah pemilik yang sebelumnya,\" tuturnya. \"Kami umumkan kemarin hari Jumat, supaya Senin bisa segera bayar. Malu kalau mobilnya mewah, tetapi enggak bayar pajak,\" kata dia.'''"
   ]
  },
  {
   "cell_type": "code",
   "execution_count": 4,
   "metadata": {},
   "outputs": [],
   "source": [
    "sentences = sent_tokenize(sample)\n",
    "\n",
    "word = []\n",
    "for sentence in sentences:\n",
    "    sentencex = word_tokenize(sentence)\n",
    "    word.append(sentencex)"
   ]
  },
  {
   "cell_type": "code",
   "execution_count": 5,
   "metadata": {},
   "outputs": [],
   "source": [
    "model = gensim.models.Word2Vec(word, min_count = 1)"
   ]
  },
  {
   "cell_type": "code",
   "execution_count": 6,
   "metadata": {},
   "outputs": [
    {
     "data": {
      "text/plain": [
       "[('mengatakan', 0.27386385202407837),\n",
       " ('744', 0.25498640537261963),\n",
       " ('miliar', 0.24006398022174835),\n",
       " ('Barat', 0.21952131390571594),\n",
       " ('kepada', 0.19821932911872864)]"
      ]
     },
     "execution_count": 6,
     "metadata": {},
     "output_type": "execute_result"
    }
   ],
   "source": [
    "model.most_similar(positive=['mobil'], topn=5)\n",
    "model.most_similar(positive=['mobil'], negative=['pemerintah'], topn=5)\n",
    "model.most_similar(positive=['mobil', 'mewah'], topn=5)"
   ]
  },
  {
   "cell_type": "code",
   "execution_count": 7,
   "metadata": {},
   "outputs": [
    {
     "data": {
      "text/plain": [
       "-0.08914213850294093"
      ]
     },
     "execution_count": 7,
     "metadata": {},
     "output_type": "execute_result"
    }
   ],
   "source": [
    "model.similarity('mobil', 'mewah')\n",
    "model.similarity('mobil', 'pemerintah')"
   ]
  },
  {
   "cell_type": "code",
   "execution_count": 8,
   "metadata": {},
   "outputs": [
    {
     "data": {
      "text/plain": [
       "[('miliar', 0.2992247939109802),\n",
       " ('maka', 0.28743523359298706),\n",
       " ('Kawasan', 0.25218665599823),\n",
       " ('mengimbau', 0.22387242317199707),\n",
       " ('kepada', 0.22013963758945465),\n",
       " ('744', 0.21855701506137848),\n",
       " ('kata', 0.21424490213394165),\n",
       " ('yang', 0.21279487013816833),\n",
       " ('sebagaimana', 0.19229380786418915),\n",
       " ('Daerah', 0.17266768217086792)]"
      ]
     },
     "execution_count": 8,
     "metadata": {},
     "output_type": "execute_result"
    }
   ],
   "source": [
    "model.most_similar('mobil')"
   ]
  },
  {
   "cell_type": "code",
   "execution_count": 9,
   "metadata": {},
   "outputs": [
    {
     "data": {
      "text/plain": [
       "array([ 1.9904862e-04, -1.8827507e-04, -1.7299851e-03, -3.1877289e-04,\n",
       "        7.7767210e-04,  4.2322432e-04,  6.0204265e-04,  9.7861956e-04,\n",
       "       -4.2607291e-03,  4.0663299e-03, -1.0043791e-03,  1.2885977e-03,\n",
       "        1.1596165e-03,  3.1795320e-03,  3.7151917e-03, -3.6823007e-03,\n",
       "       -8.4961968e-04, -2.4772652e-03, -2.0761685e-03,  3.3792036e-03,\n",
       "       -1.7498673e-03, -1.3949047e-03, -4.2253062e-03, -5.0193262e-03,\n",
       "        4.4498098e-04, -2.8133893e-03, -3.0795103e-03,  4.3005426e-03,\n",
       "       -3.0313188e-03, -4.5871832e-03, -2.8254646e-03,  3.4338266e-03,\n",
       "       -7.5101200e-04, -1.5027500e-03,  1.5027586e-03, -1.5344925e-03,\n",
       "        1.2088708e-03, -2.3918808e-03,  4.0838462e-03,  1.4464126e-03,\n",
       "       -4.1763065e-03,  4.6741473e-03,  3.6645210e-03,  4.3424373e-03,\n",
       "       -9.5014786e-04,  4.3142415e-04,  3.8286909e-03, -1.9764900e-03,\n",
       "        2.3992942e-03,  7.0446177e-04,  1.4778511e-03,  3.4244636e-03,\n",
       "       -2.3335579e-03, -4.5608408e-03,  2.7742835e-03,  2.4957126e-03,\n",
       "       -2.4414954e-03,  1.7532480e-03, -1.2735007e-03,  3.0295916e-03,\n",
       "        1.7125818e-03, -3.8667836e-03, -3.8163626e-04, -4.0851915e-03,\n",
       "       -3.8577127e-03, -4.0617813e-03, -3.8315018e-03, -3.9692852e-03,\n",
       "       -1.1958887e-03,  4.1282265e-03, -1.4805917e-03, -2.4063583e-03,\n",
       "       -1.0204851e-03, -3.4789711e-03, -2.8280783e-04,  4.4852812e-03,\n",
       "        1.5755949e-04, -3.0002894e-03, -3.9228275e-03, -3.6599329e-05,\n",
       "        3.9835232e-03,  1.0885667e-03, -4.5216168e-04, -4.4953269e-03,\n",
       "        2.8284655e-03, -5.0750212e-03, -4.7375057e-03,  3.0798500e-03,\n",
       "       -1.0424062e-03,  3.5769832e-03,  1.8802648e-03, -2.9670484e-03,\n",
       "       -3.1703371e-03,  1.4889471e-03,  3.7634659e-03, -4.8700501e-03,\n",
       "        2.4248296e-03, -4.4733770e-03, -1.6516452e-03, -4.1122180e-03],\n",
       "      dtype=float32)"
      ]
     },
     "execution_count": 9,
     "metadata": {},
     "output_type": "execute_result"
    }
   ],
   "source": [
    "model['mobil']"
   ]
  },
  {
   "cell_type": "code",
   "execution_count": null,
   "metadata": {
    "collapsed": true
   },
   "outputs": [],
   "source": []
  }
 ],
 "metadata": {
  "kernelspec": {
   "display_name": "Python 2",
   "language": "python",
   "name": "python2"
  },
  "language_info": {
   "codemirror_mode": {
    "name": "ipython",
    "version": 2
   },
   "file_extension": ".py",
   "mimetype": "text/x-python",
   "name": "python",
   "nbconvert_exporter": "python",
   "pygments_lexer": "ipython2",
   "version": "2.7.12"
  }
 },
 "nbformat": 4,
 "nbformat_minor": 2
}
